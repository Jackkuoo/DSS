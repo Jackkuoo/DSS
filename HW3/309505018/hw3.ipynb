{
  "nbformat": 4,
  "nbformat_minor": 0,
  "metadata": {
    "kernelspec": {
      "display_name": "Python 3",
      "language": "python",
      "name": "python3"
    },
    "language_info": {
      "codemirror_mode": {
        "name": "ipython",
        "version": 3
      },
      "file_extension": ".py",
      "mimetype": "text/x-python",
      "name": "python",
      "nbconvert_exporter": "python",
      "pygments_lexer": "ipython3",
      "version": "3.6.4"
    },
    "colab": {
      "name": "hw3.ipynb",
      "provenance": [],
      "collapsed_sections": []
    }
  },
  "cells": [
    {
      "cell_type": "code",
      "metadata": {
        "id": "bgrq-KIlUSe3"
      },
      "source": [
        "# 309505018, 0751231\r\n",
        "import numpy as np\r\n",
        "import pandas as pd\r\n",
        "import cv2\r\n",
        "import matplotlib.pyplot as plt\r\n",
        "import sys,os,time\r\n",
        "import pa\r\n",
        "get_ipython().run_line_magic('matplotlib', 'inline')\r\n",
        "\r\n",
        "array_of_img = [] # Store all the image data\r\n",
        "# Read directory function\r\n",
        "def read_directory(directory_name):\r\n",
        "  filenumber = len([name for name in os.listdir(directory_name) if os.path.isfile(os.path.join(directory_name, name))])\r\n",
        "  for i in range(1,filenumber+1):\r\n",
        "    img = cv2.imread(directory_name + \"/\" + str(i)+\".jpg\")\r\n",
        "    array_of_img.append(img)\r\n",
        "  \r\n",
        "  return array_of_img\r\n",
        "\r\n",
        "                         \r\n",
        "\r\n",
        "\r\n",
        "f = open('testfile.txt', 'r')\r\n",
        "dirname = str(f.readline()).strip()\r\n",
        "print(dirname)\r\n",
        "while(dirname):\r\n",
        "  #p1 = time.time() \r\n",
        "  array_of_img = []  \r\n",
        "  array_of_img = read_directory(dirname)\r\n",
        "  print(\"len(array_of_img): \",len(array_of_img))\r\n",
        "  image_width = array_of_img[0].shape[1]\r\n",
        "  h, w =array_of_img[0].shape[:2]\r\n",
        "  K = np.array([[830,0,w/2],[0,830,h/2],[0,0,1]])\r\n",
        "  for i in range(len(array_of_img)):\r\n",
        "\t  array_of_img[i] = pa.cylindricalWarp(array_of_img[i], K)\r\n",
        "  \r\n",
        "  res = pa.create_panorama(array_of_img,image_width)\r\n",
        "  #p2 = time.time()\r\n",
        "  #print('total: ' + str(p2-p1) + ' seconds')\r\n",
        "  plt.figure()\r\n",
        "  plt.imshow(res)\r\n",
        "  plt.show()\r\n",
        "  cv2.imwrite(dirname+'.png', res)"
      ],
      "execution_count": null,
      "outputs": []
    }
  ]
}